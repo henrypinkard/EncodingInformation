{
 "cells": [
  {
   "cell_type": "code",
   "execution_count": 1,
   "metadata": {},
   "outputs": [
    {
     "name": "stdout",
     "output_type": "stream",
     "text": [
      "Requirement already satisfied: bsccm in /2tb_nvme/hpinkard_waller/GitRepos/BSCCM (1.1.3)\n",
      "Requirement already satisfied: numpy in /2tb_nvme/hpinkard_waller/mambaforge/envs/new_info_test/lib/python3.10/site-packages (from bsccm) (2.1.3)\n",
      "Requirement already satisfied: pandas in /2tb_nvme/hpinkard_waller/mambaforge/envs/new_info_test/lib/python3.10/site-packages (from bsccm) (2.2.3)\n",
      "Requirement already satisfied: zarr in /2tb_nvme/hpinkard_waller/mambaforge/envs/new_info_test/lib/python3.10/site-packages (from bsccm) (2.18.3)\n",
      "Requirement already satisfied: requests in /2tb_nvme/hpinkard_waller/mambaforge/envs/new_info_test/lib/python3.10/site-packages (from bsccm) (2.32.3)\n",
      "Requirement already satisfied: tqdm in /2tb_nvme/hpinkard_waller/mambaforge/envs/new_info_test/lib/python3.10/site-packages (from bsccm) (4.67.1)\n",
      "Requirement already satisfied: python-dateutil>=2.8.2 in /2tb_nvme/hpinkard_waller/mambaforge/envs/new_info_test/lib/python3.10/site-packages (from pandas->bsccm) (2.9.0.post0)\n",
      "Requirement already satisfied: pytz>=2020.1 in /2tb_nvme/hpinkard_waller/mambaforge/envs/new_info_test/lib/python3.10/site-packages (from pandas->bsccm) (2025.2)\n",
      "Requirement already satisfied: tzdata>=2022.7 in /2tb_nvme/hpinkard_waller/mambaforge/envs/new_info_test/lib/python3.10/site-packages (from pandas->bsccm) (2025.2)\n",
      "Requirement already satisfied: six>=1.5 in /2tb_nvme/hpinkard_waller/mambaforge/envs/new_info_test/lib/python3.10/site-packages (from python-dateutil>=2.8.2->pandas->bsccm) (1.17.0)\n",
      "Requirement already satisfied: charset-normalizer<4,>=2 in /2tb_nvme/hpinkard_waller/mambaforge/envs/new_info_test/lib/python3.10/site-packages (from requests->bsccm) (3.4.1)\n",
      "Requirement already satisfied: idna<4,>=2.5 in /2tb_nvme/hpinkard_waller/mambaforge/envs/new_info_test/lib/python3.10/site-packages (from requests->bsccm) (3.10)\n",
      "Requirement already satisfied: urllib3<3,>=1.21.1 in /2tb_nvme/hpinkard_waller/mambaforge/envs/new_info_test/lib/python3.10/site-packages (from requests->bsccm) (2.4.0)\n",
      "Requirement already satisfied: certifi>=2017.4.17 in /2tb_nvme/hpinkard_waller/mambaforge/envs/new_info_test/lib/python3.10/site-packages (from requests->bsccm) (2025.4.26)\n",
      "Requirement already satisfied: asciitree in /2tb_nvme/hpinkard_waller/mambaforge/envs/new_info_test/lib/python3.10/site-packages (from zarr->bsccm) (0.3.3)\n",
      "Requirement already satisfied: numcodecs>=0.10.0 in /2tb_nvme/hpinkard_waller/mambaforge/envs/new_info_test/lib/python3.10/site-packages (from zarr->bsccm) (0.13.1)\n",
      "Requirement already satisfied: fasteners in /2tb_nvme/hpinkard_waller/mambaforge/envs/new_info_test/lib/python3.10/site-packages (from zarr->bsccm) (0.19)\n"
     ]
    }
   ],
   "source": [
    "!pip install bsccm"
   ]
  },
  {
   "cell_type": "code",
   "execution_count": null,
   "metadata": {},
   "outputs": [
    {
     "name": "stdout",
     "output_type": "stream",
     "text": [
      "Files to download: 25 of 25..\n",
      "Downloading...\n"
     ]
    },
    {
     "name": "stderr",
     "output_type": "stream",
     "text": [
      "Total Download Progress:  31%|███       | 7.56G/24.6G [09:42<21:26, 14.2MB/s]  "
     ]
    }
   ],
   "source": [
    "from bsccm import download_dataset\n",
    "\n",
    "download_dataset(tiny=False, coherent=True, mnist=False)"
   ]
  },
  {
   "cell_type": "code",
   "execution_count": 30,
   "metadata": {},
   "outputs": [
    {
     "name": "stdout",
     "output_type": "stream",
     "text": [
      "Opening BSCCM\n",
      "Opened BSCCM\n"
     ]
    }
   ],
   "source": [
    "from encoding_information.datasets import BSCCMDataset\n",
    "dataset = BSCCMDataset('/home/hpinkard_waller/data/BSCCM-tiny')\n",
    "\n"
   ]
  },
  {
   "cell_type": "code",
   "execution_count": 31,
   "metadata": {},
   "outputs": [],
   "source": [
    "measurements = dataset.get_measurements(300)"
   ]
  },
  {
   "cell_type": "code",
   "execution_count": 32,
   "metadata": {},
   "outputs": [
    {
     "name": "stderr",
     "output_type": "stream",
     "text": [
      "W0000 00:00:1745954018.965704 3851609 gpu_device.cc:2341] Cannot dlopen some GPU libraries. Please make sure the missing libraries mentioned above are installed properly if you would like to use GPU. Follow the guide at https://www.tensorflow.org/install/gpu for how to download and setup the required libraries for your platform.\n",
      "Skipping registering GPU devices...\n"
     ]
    },
    {
     "name": "stdout",
     "output_type": "stream",
     "text": [
      "Initial validation NLL: 4837.26\n"
     ]
    },
    {
     "name": "stderr",
     "output_type": "stream",
     "text": [
      "Epoch 1: 100%|██████████| 100/100 [00:32<00:00,  3.08it/s]\n"
     ]
    },
    {
     "name": "stdout",
     "output_type": "stream",
     "text": [
      "Epoch 1: validation NLL: 7.13\n"
     ]
    },
    {
     "name": "stderr",
     "output_type": "stream",
     "text": [
      "Epoch 2: 100%|██████████| 100/100 [00:29<00:00,  3.34it/s]\n"
     ]
    },
    {
     "name": "stdout",
     "output_type": "stream",
     "text": [
      "Epoch 2: validation NLL: 7.10\n"
     ]
    },
    {
     "name": "stderr",
     "output_type": "stream",
     "text": [
      "Epoch 3: 100%|██████████| 100/100 [00:30<00:00,  3.31it/s]\n"
     ]
    },
    {
     "name": "stdout",
     "output_type": "stream",
     "text": [
      "Epoch 3: validation NLL: 7.02\n"
     ]
    },
    {
     "name": "stderr",
     "output_type": "stream",
     "text": [
      "Epoch 4: 100%|██████████| 100/100 [00:30<00:00,  3.30it/s]\n"
     ]
    },
    {
     "name": "stdout",
     "output_type": "stream",
     "text": [
      "Epoch 4: validation NLL: 6.98\n"
     ]
    },
    {
     "name": "stderr",
     "output_type": "stream",
     "text": [
      "Epoch 5: 100%|██████████| 100/100 [00:30<00:00,  3.28it/s]\n"
     ]
    },
    {
     "name": "stdout",
     "output_type": "stream",
     "text": [
      "Epoch 5: validation NLL: 6.93\n"
     ]
    },
    {
     "name": "stderr",
     "output_type": "stream",
     "text": [
      "Epoch 6:  58%|█████▊    | 58/100 [00:16<00:12,  3.50it/s]\n"
     ]
    },
    {
     "ename": "KeyboardInterrupt",
     "evalue": "",
     "output_type": "error",
     "traceback": [
      "\u001b[0;31m---------------------------------------------------------------------------\u001b[0m",
      "\u001b[0;31mKeyboardInterrupt\u001b[0m                         Traceback (most recent call last)",
      "Cell \u001b[0;32mIn[32], line 16\u001b[0m\n\u001b[1;32m     14\u001b[0m model \u001b[38;5;241m=\u001b[39m PixelCNN()  \u001b[38;5;66;03m# Also supports FullGaussianProcess, StationaryGaussianProcess\u001b[39;00m\n\u001b[1;32m     15\u001b[0m noise_model \u001b[38;5;241m=\u001b[39m PoissonNoiseModel()\n\u001b[0;32m---> 16\u001b[0m \u001b[43mmodel\u001b[49m\u001b[38;5;241;43m.\u001b[39;49m\u001b[43mfit\u001b[49m\u001b[43m(\u001b[49m\u001b[43mpatches\u001b[49m\u001b[43m)\u001b[49m\n\u001b[1;32m     18\u001b[0m \u001b[38;5;66;03m# Estimate information content with confidence bounds\u001b[39;00m\n\u001b[1;32m     19\u001b[0m \u001b[38;5;66;03m# Error bars are calculated based on test set size\u001b[39;00m\n\u001b[1;32m     20\u001b[0m info, lower_bound, upper_bound \u001b[38;5;241m=\u001b[39m estimate_information(\n\u001b[1;32m     21\u001b[0m    model, \n\u001b[1;32m     22\u001b[0m    noise_model,\n\u001b[0;32m   (...)\u001b[0m\n\u001b[1;32m     25\u001b[0m    confidence_interval\u001b[38;5;241m=\u001b[39m\u001b[38;5;241m0.95\u001b[39m\n\u001b[1;32m     26\u001b[0m )\n",
      "File \u001b[0;32m/2tb_nvme/hpinkard_waller/GitRepos/EncodingInformation/src/encoding_information/models/pixel_cnn.py:584\u001b[0m, in \u001b[0;36mPixelCNN.fit\u001b[0;34m(self, train_images, condition_vectors, learning_rate, max_epochs, steps_per_epoch, patience, sigma_min, batch_size, num_val_samples, percent_samples_for_validation, do_lr_decay, verbose, add_gaussian_noise, add_uniform_noise, model_seed, data_seed, use_positional_embedding, seed)\u001b[0m\n\u001b[1;32m    580\u001b[0m         state \u001b[38;5;241m=\u001b[39m state\u001b[38;5;241m.\u001b[39mapply_gradients(grads\u001b[38;5;241m=\u001b[39mgrads)\n\u001b[1;32m    581\u001b[0m         \u001b[38;5;28;01mreturn\u001b[39;00m state, loss\n\u001b[0;32m--> 584\u001b[0m best_params, val_loss_history \u001b[38;5;241m=\u001b[39m \u001b[43mtrain_model\u001b[49m\u001b[43m(\u001b[49m\u001b[43mtrain_images\u001b[49m\u001b[38;5;241;43m=\u001b[39;49m\u001b[43mtrain_images\u001b[49m\u001b[43m,\u001b[49m\u001b[43m \u001b[49m\u001b[43mcondition_vectors\u001b[49m\u001b[38;5;241;43m=\u001b[39;49m\u001b[43mcondition_vectors\u001b[49m\u001b[43m,\u001b[49m\u001b[43m \u001b[49m\u001b[43mtrain_step\u001b[49m\u001b[38;5;241;43m=\u001b[39;49m\u001b[43mtrain_step\u001b[49m\u001b[43m,\u001b[49m\n\u001b[1;32m    585\u001b[0m \u001b[43m                                            \u001b[49m\u001b[43mstate\u001b[49m\u001b[38;5;241;43m=\u001b[39;49m\u001b[38;5;28;43mself\u001b[39;49m\u001b[38;5;241;43m.\u001b[39;49m\u001b[43m_state\u001b[49m\u001b[43m,\u001b[49m\u001b[43m \u001b[49m\u001b[43mbatch_size\u001b[49m\u001b[38;5;241;43m=\u001b[39;49m\u001b[43mbatch_size\u001b[49m\u001b[43m,\u001b[49m\u001b[43m \u001b[49m\u001b[43mnum_val_samples\u001b[49m\u001b[38;5;241;43m=\u001b[39;49m\u001b[38;5;28;43mint\u001b[39;49m\u001b[43m(\u001b[49m\u001b[43mnum_val_samples\u001b[49m\u001b[43m)\u001b[49m\u001b[43m,\u001b[49m\n\u001b[1;32m    586\u001b[0m \u001b[43m                                            \u001b[49m\u001b[43madd_gaussian_noise\u001b[49m\u001b[38;5;241;43m=\u001b[39;49m\u001b[43madd_gaussian_noise\u001b[49m\u001b[43m,\u001b[49m\u001b[43m \u001b[49m\u001b[43madd_uniform_noise\u001b[49m\u001b[38;5;241;43m=\u001b[39;49m\u001b[43madd_uniform_noise\u001b[49m\u001b[43m,\u001b[49m\n\u001b[1;32m    587\u001b[0m \u001b[43m                                            \u001b[49m\u001b[43msteps_per_epoch\u001b[49m\u001b[38;5;241;43m=\u001b[39;49m\u001b[43msteps_per_epoch\u001b[49m\u001b[43m,\u001b[49m\u001b[43m \u001b[49m\u001b[43mnum_epochs\u001b[49m\u001b[38;5;241;43m=\u001b[39;49m\u001b[43mmax_epochs\u001b[49m\u001b[43m,\u001b[49m\u001b[43m \u001b[49m\u001b[43mpatience\u001b[49m\u001b[38;5;241;43m=\u001b[39;49m\u001b[43mpatience\u001b[49m\u001b[43m,\u001b[49m\u001b[43m \u001b[49m\u001b[43mseed\u001b[49m\u001b[38;5;241;43m=\u001b[39;49m\u001b[43mdata_seed\u001b[49m\u001b[43m,\u001b[49m\n\u001b[1;32m    588\u001b[0m \u001b[43m                                            \u001b[49m\u001b[43mverbose\u001b[49m\u001b[38;5;241;43m=\u001b[39;49m\u001b[43mverbose\u001b[49m\u001b[43m)\u001b[49m\n\u001b[1;32m    589\u001b[0m \u001b[38;5;28mself\u001b[39m\u001b[38;5;241m.\u001b[39m_state \u001b[38;5;241m=\u001b[39m \u001b[38;5;28mself\u001b[39m\u001b[38;5;241m.\u001b[39m_state\u001b[38;5;241m.\u001b[39mreplace(params\u001b[38;5;241m=\u001b[39mbest_params)\n\u001b[1;32m    590\u001b[0m \u001b[38;5;28mself\u001b[39m\u001b[38;5;241m.\u001b[39mval_loss_history \u001b[38;5;241m=\u001b[39m val_loss_history\n",
      "File \u001b[0;32m/2tb_nvme/hpinkard_waller/GitRepos/EncodingInformation/src/encoding_information/models/model_base_class.py:493\u001b[0m, in \u001b[0;36mtrain_model\u001b[0;34m(train_images, state, batch_size, num_val_samples, steps_per_epoch, num_epochs, patience, train_step, condition_vectors, add_gaussian_noise, add_uniform_noise, seed, verbose)\u001b[0m\n\u001b[1;32m    490\u001b[0m     \u001b[38;5;28;01melse\u001b[39;00m:\n\u001b[1;32m    491\u001b[0m         state, loss \u001b[38;5;241m=\u001b[39m train_step(state, batch[\u001b[38;5;241m0\u001b[39m], batch[\u001b[38;5;241m1\u001b[39m])\n\u001b[0;32m--> 493\u001b[0m     avg_loss \u001b[38;5;241m+\u001b[39m\u001b[38;5;241m=\u001b[39m loss \u001b[38;5;241m/\u001b[39m steps_per_epoch\n\u001b[1;32m    495\u001b[0m eval_nll \u001b[38;5;241m=\u001b[39m _evaluate_nll(val_loader_maker_fn(), state, eval_step\u001b[38;5;241m=\u001b[39meval_step) \n\u001b[1;32m    496\u001b[0m \u001b[38;5;28;01mif\u001b[39;00m np\u001b[38;5;241m.\u001b[39misnan(eval_nll):\n",
      "File \u001b[0;32m~/mambaforge/envs/new_info_test/lib/python3.10/site-packages/jax/_src/numpy/array_methods.py:579\u001b[0m, in \u001b[0;36m_defer_to_unrecognized_arg.<locals>.deferring_binary_op\u001b[0;34m(self, other)\u001b[0m\n\u001b[1;32m    577\u001b[0m args \u001b[38;5;241m=\u001b[39m (other, \u001b[38;5;28mself\u001b[39m) \u001b[38;5;28;01mif\u001b[39;00m swap \u001b[38;5;28;01melse\u001b[39;00m (\u001b[38;5;28mself\u001b[39m, other)\n\u001b[1;32m    578\u001b[0m \u001b[38;5;28;01mif\u001b[39;00m \u001b[38;5;28misinstance\u001b[39m(other, _accepted_binop_types):\n\u001b[0;32m--> 579\u001b[0m   \u001b[38;5;28;01mreturn\u001b[39;00m \u001b[43mbinary_op\u001b[49m\u001b[43m(\u001b[49m\u001b[38;5;241;43m*\u001b[39;49m\u001b[43margs\u001b[49m\u001b[43m)\u001b[49m\n\u001b[1;32m    580\u001b[0m \u001b[38;5;66;03m# Note: don't use isinstance here, because we don't want to raise for\u001b[39;00m\n\u001b[1;32m    581\u001b[0m \u001b[38;5;66;03m# subclasses, e.g. NamedTuple objects that may override operators.\u001b[39;00m\n\u001b[1;32m    582\u001b[0m \u001b[38;5;28;01mif\u001b[39;00m \u001b[38;5;28mtype\u001b[39m(other) \u001b[38;5;129;01min\u001b[39;00m _rejected_binop_types:\n",
      "File \u001b[0;32m~/mambaforge/envs/new_info_test/lib/python3.10/site-packages/jax/_src/numpy/ufunc_api.py:180\u001b[0m, in \u001b[0;36mufunc.__call__\u001b[0;34m(self, out, where, *args)\u001b[0m\n\u001b[1;32m    178\u001b[0m   \u001b[38;5;28;01mraise\u001b[39;00m \u001b[38;5;167;01mNotImplementedError\u001b[39;00m(\u001b[38;5;124mf\u001b[39m\u001b[38;5;124m\"\u001b[39m\u001b[38;5;124mwhere argument of \u001b[39m\u001b[38;5;132;01m{\u001b[39;00m\u001b[38;5;28mself\u001b[39m\u001b[38;5;132;01m}\u001b[39;00m\u001b[38;5;124m\"\u001b[39m)\n\u001b[1;32m    179\u001b[0m call \u001b[38;5;241m=\u001b[39m \u001b[38;5;28mself\u001b[39m\u001b[38;5;241m.\u001b[39m__static_props[\u001b[38;5;124m'\u001b[39m\u001b[38;5;124mcall\u001b[39m\u001b[38;5;124m'\u001b[39m] \u001b[38;5;129;01mor\u001b[39;00m \u001b[38;5;28mself\u001b[39m\u001b[38;5;241m.\u001b[39m_call_vectorized\n\u001b[0;32m--> 180\u001b[0m \u001b[38;5;28;01mreturn\u001b[39;00m \u001b[43mcall\u001b[49m\u001b[43m(\u001b[49m\u001b[38;5;241;43m*\u001b[39;49m\u001b[43margs\u001b[49m\u001b[43m)\u001b[49m\n",
      "\u001b[0;31mKeyboardInterrupt\u001b[0m: "
     ]
    }
   ],
   "source": [
    "from encoding_information.models import PixelCNN, PoissonNoiseModel\n",
    "from encoding_information import estimate_information, extract_patches\n",
    "\n",
    "# Load measurement data (N x H x W numpy array of images) \n",
    "# measurements = load_measurements()  \n",
    "\n",
    "# Split into training/test sets and extract patches\n",
    "# Breaking large images into patches increases computational efficiency\n",
    "# Test set is used to evaluate information estimates\n",
    "patches = extract_patches(measurements[:-200], patch_size=16)\n",
    "test_patches = extract_patches(measurements[-200:], patch_size=16) \n",
    "\n",
    "# Initialize and fit model to training data\n",
    "model = PixelCNN()  # Also supports FullGaussianProcess, StationaryGaussianProcess\n",
    "noise_model = PoissonNoiseModel()\n",
    "model.fit(patches)\n",
    "\n",
    "# Estimate information content with confidence bounds\n",
    "# Error bars are calculated based on test set size\n",
    "info, lower_bound, upper_bound = estimate_information(\n",
    "   model, \n",
    "   noise_model,\n",
    "   patches,\n",
    "   test_patches,\n",
    "   confidence_interval=0.95\n",
    ")\n",
    "\n",
    "print(f\"Information: {info:.2f} ± {(upper_bound-lower_bound)/2:.2f} bits/pixel\")\n"
   ]
  }
 ],
 "metadata": {
  "kernelspec": {
   "display_name": "new_info_test",
   "language": "python",
   "name": "python3"
  },
  "language_info": {
   "codemirror_mode": {
    "name": "ipython",
    "version": 3
   },
   "file_extension": ".py",
   "mimetype": "text/x-python",
   "name": "python",
   "nbconvert_exporter": "python",
   "pygments_lexer": "ipython3",
   "version": "3.10.17"
  }
 },
 "nbformat": 4,
 "nbformat_minor": 2
}
